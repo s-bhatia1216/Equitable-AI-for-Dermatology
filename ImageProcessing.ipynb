{
  "cells": [
    {
      "cell_type": "code",
      "execution_count": null,
      "metadata": {
        "id": "r1KcAOGQE0hy"
      },
      "outputs": [],
      "source": [
        "# Necessary Imports\n",
        "import os\n",
        "import numpy as np\n",
        "import pandas as pd\n",
        "from collections import Counter\n",
        "import keras\n",
        "from keras import Sequential\n",
        "from keras import layers\n",
        "from keras.layers import Conv2D,MaxPool2D,Dense,Flatten,BatchNormalization,Dropout, Input\n",
        "from keras.optimizers import Adam\n",
        "from PIL import Image\n",
        "from tensorflow import data as tf_data\n",
        "import matplotlib.pyplot as plt\n",
        "from keras.preprocessing import image\n",
        "\n",
        "from sklearn.model_selection import train_test_split\n",
        "\n",
        "from tqdm import tqdm"
      ]
    },
    {
      "cell_type": "code",
      "execution_count": null,
      "metadata": {
        "colab": {
          "base_uri": "https://localhost:8080/"
        },
        "id": "u-NP4MzLH5GS",
        "outputId": "5fa6acec-d711-408e-9ac2-545c63c3657b"
      },
      "outputs": [
        {
          "output_type": "stream",
          "name": "stdout",
          "text": [
            "Drive already mounted at /content/drive; to attempt to forcibly remount, call drive.mount(\"/content/drive\", force_remount=True).\n"
          ]
        }
      ],
      "source": [
        "# This cell connects our current Colab session to Google Drive; necessary for the multi-label segment\n",
        "from google.colab import drive\n",
        "drive.mount('/content/drive')"
      ]
    },
    {
      "cell_type": "code",
      "execution_count": null,
      "metadata": {
        "id": "gl91qxPIQZa8"
      },
      "outputs": [],
      "source": [
        "file_path= \"/content/drive/MyDrive/Break Through Tech/Spring Project/bttai-ajl-2025\"\n"
      ]
    },
    {
      "cell_type": "markdown",
      "source": [
        "**Filter Out Bad Data**"
      ],
      "metadata": {
        "id": "SW5ZAdEg_avy"
      }
    },
    {
      "cell_type": "code",
      "source": [
        "# Define paths for train and test folders\n",
        "train_folder = os.path.join(file_path, \"train\", \"train\")  # Train has multiple subfolders\n",
        "test_folder = os.path.join(file_path, \"test\", \"test\")  # Test images are inside \"test/train\"\n",
        "\n",
        "# Initialize counters\n",
        "total_train_images = 0\n",
        "total_test_images = 0\n",
        "total_test_subfolders = 0\n",
        "\n",
        "# Count images in \"test/test\" folder (images inside it)\n",
        "if os.path.exists(test_folder):  # Ensure the folder exists\n",
        "    total_test_images = sum(\n",
        "        1 for f in os.listdir(test_folder) if f.lower().endswith((\".jpg\", \".jpeg\", \".png\", \".bmp\", \".tiff\"))\n",
        "    )\n",
        "\n",
        "# Count images in \"train/train\" folder (including all subfolders but without listing them)\n",
        "for root, _, files in os.walk(train_folder):\n",
        "    total_train_images += sum(1 for f in files if f.lower().endswith((\".jpg\", \".jpeg\", \".png\", \".bmp\", \".tiff\")))\n",
        "\n",
        "# Count the number of subfolders inside \"train/train/\"\n",
        "if os.path.exists(train_folder):\n",
        "    total_train_subfolders = sum(1 for f in os.listdir(train_folder) if os.path.isdir(os.path.join(train_folder, f)))\n",
        "\n",
        "# Print the total counts\n",
        "print(f\"📊 Number of images in Train folder: {total_train_images}\")\n",
        "print(f\"📊 Number of images in Test folder: {total_test_images}\")\n",
        "print(f\"📁 Number of subfolders in Train folder: {total_train_subfolders}\")"
      ],
      "metadata": {
        "colab": {
          "base_uri": "https://localhost:8080/"
        },
        "id": "Vo_QD5hg_mfj",
        "outputId": "055103fa-51c4-4083-88f1-bb4cabc331db"
      },
      "execution_count": null,
      "outputs": [
        {
          "output_type": "stream",
          "name": "stdout",
          "text": [
            "📊 Number of images in Train folder: 2860\n",
            "📊 Number of images in Test folder: 1227\n",
            "📁 Number of subfolders in Train folder: 21\n"
          ]
        }
      ]
    },
    {
      "cell_type": "code",
      "source": [
        "#list all train sub folder\n",
        "train_folder = os.path.join(\"/content/drive/MyDrive/Break Through Tech/Spring Project/bttai-ajl-2025\", \"train\", \"train\")\n",
        "\n",
        "# Dictionary to store counts per class\n",
        "image_counts = {}\n",
        "total_train_images = 0  # Counter for total images in train folder\n",
        "\n",
        "# Get all direct subfolders inside \"train/train/\"\n",
        "subfolders = [f for f in os.listdir(train_folder) if os.path.isdir(os.path.join(train_folder, f))]\n",
        "\n",
        "# Loop through each subfolder and count images\n",
        "for subfolder in subfolders:\n",
        "    subfolder_path = os.path.join(train_folder, subfolder)\n",
        "\n",
        "    num_images = sum(1 for f in os.listdir(subfolder_path) if f.lower().endswith((\".jpg\", \".jpeg\", \".png\", \".bmp\", \".tiff\")))\n",
        "\n",
        "    # Store count per subfolder\n",
        "    image_counts[subfolder] = num_images\n",
        "\n",
        "    # Add to the total count of all train images\n",
        "    total_train_images += num_images\n",
        "\n",
        "# Print per-folder counts\n",
        "for folder, count in image_counts.items():\n",
        "    print(f\"📁 {folder}: {count} images\")\n",
        "\n",
        "# Print total images in train\n",
        "print(f\"\\n📊 **Total images in 'train' folder: {total_train_images}**\")"
      ],
      "metadata": {
        "colab": {
          "base_uri": "https://localhost:8080/"
        },
        "id": "ElxSqnuz6tDy",
        "outputId": "9c75f8d5-27c2-48fa-967a-91bf7ee94e60",
        "collapsed": true
      },
      "execution_count": null,
      "outputs": [
        {
          "output_type": "stream",
          "name": "stdout",
          "text": [
            "📁 superficial-spreading-melanoma-ssm: 83 images\n",
            "📁 squamous-cell-carcinoma: 407 images\n",
            "📁 seborrheic-keratosis: 48 images\n",
            "📁 pyogenic-granuloma: 79 images\n",
            "📁 prurigo-nodularis: 119 images\n",
            "📁 mycosis-fungoides: 127 images\n",
            "📁 melanoma: 181 images\n",
            "📁 malignant-melanoma: 78 images\n",
            "📁 keloid: 109 images\n",
            "📁 kaposi-sarcoma: 109 images\n",
            "📁 folliculitis: 239 images\n",
            "📁 epidermal-nevus: 64 images\n",
            "📁 eczema: 143 images\n",
            "📁 dyshidrotic-eczema: 58 images\n",
            "📁 dermatomyositis: 106 images\n",
            "📁 dermatofibroma: 55 images\n",
            "📁 basal-cell-carcinoma-morpheiform: 43 images\n",
            "📁 basal-cell-carcinoma: 328 images\n",
            "📁 actinic-keratosis: 122 images\n",
            "📁 acne-vulgaris: 234 images\n",
            "📁 acne: 128 images\n",
            "\n",
            "📊 **Total images in 'train' folder: 2860**\n"
          ]
        }
      ]
    },
    {
      "cell_type": "code",
      "source": [
        "!cp -r \"/content/drive/MyDrive/Break Through Tech/Spring Project/bttai-ajl-2025\" \"/content/drive/MyDrive/Break Through Tech/Spring Project/dataSetbackup\"\n"
      ],
      "metadata": {
        "id": "UIyFI98dGKkn"
      },
      "execution_count": null,
      "outputs": []
    },
    {
      "cell_type": "code",
      "source": [
        "# Initialize counter for corrupted images\n",
        "num_skipped = 0\n",
        "\n",
        "# Define the main data directory\n",
        "data_dir = file_path  # Update if needed\n",
        "\n",
        "# Loop through both \"train\" and \"test\" folders\n",
        "for folder_name in (\"train\", \"test\"):\n",
        "    base_folder = os.path.join(data_dir, folder_name)  # e.g., \"data/train\" or \"data/test\"\n",
        "\n",
        "    # Walk through all subdirectories recursively\n",
        "    for root, dirs, files in os.walk(base_folder):\n",
        "        for fname in files:\n",
        "            fpath = os.path.join(root, fname)\n",
        "\n",
        "            try:\n",
        "                # Open the file in binary mode\n",
        "                with open(fpath, \"rb\") as fobj:\n",
        "                    is_jfif = b\"JFIF\" in fobj.peek(10)  # Check if the image is a valid JPEG\n",
        "\n",
        "                # If not a valid JPEG, remove it\n",
        "                if not is_jfif:\n",
        "                    num_skipped += 1\n",
        "                    os.remove(fpath)  # Delete the corrupted image\n",
        "\n",
        "            except Exception as e:\n",
        "                print(f\" Error processing {fpath}: {e}\")\n",
        "                num_skipped += 1  # Count unreadable files\n",
        "                try:\n",
        "                    os.remove(fpath)  # Attempt to delete it\n",
        "                except:\n",
        "                    pass  # Ignore deletion errors\n",
        "\n",
        "print(f\"✅ Deleted {num_skipped} corrupted images.\")\n"
      ],
      "metadata": {
        "colab": {
          "base_uri": "https://localhost:8080/"
        },
        "id": "Hddgr9ctQlje",
        "outputId": "86a81f0c-906f-44e6-c50c-649ee3b7e66f"
      },
      "execution_count": null,
      "outputs": [
        {
          "output_type": "stream",
          "name": "stdout",
          "text": [
            "✅ Deleted 2531 corrupted images.\n"
          ]
        }
      ]
    },
    {
      "cell_type": "code",
      "source": [
        "# Define paths for train and test folders\n",
        "train_folder = os.path.join(file_path, \"train\", \"train\")  # Train has multiple subfolders\n",
        "test_folder = os.path.join(file_path, \"test\", \"test\")  # Test images are inside \"test/train\"\n",
        "\n",
        "# Initialize counters\n",
        "total_train_images = 0\n",
        "total_test_images = 0\n",
        "total_test_subfolders = 0\n",
        "\n",
        "# Count images in \"test/test\" folder (images inside it)\n",
        "if os.path.exists(test_folder):  # Ensure the folder exists\n",
        "    total_test_images = sum(\n",
        "        1 for f in os.listdir(test_folder) if f.lower().endswith((\".jpg\", \".jpeg\", \".png\", \".bmp\", \".tiff\"))\n",
        "    )\n",
        "\n",
        "# Count images in \"train/train\" folder (including all subfolders but without listing them)\n",
        "for root, _, files in os.walk(train_folder):\n",
        "    total_train_images += sum(1 for f in files if f.lower().endswith((\".jpg\", \".jpeg\", \".png\", \".bmp\", \".tiff\")))\n",
        "\n",
        "# Count the number of subfolders inside \"train/train/\"\n",
        "if os.path.exists(train_folder):\n",
        "    total_train_subfolders = sum(1 for f in os.listdir(train_folder) if os.path.isdir(os.path.join(train_folder, f)))\n",
        "\n",
        "# Print the total counts\n",
        "print(f\"📊 Number of images in Train folder: {total_train_images}\")\n",
        "print(f\"📊 Number of images in Test folder: {total_test_images}\")\n",
        "print(f\"📁 Number of subfolders in Train folder: {total_train_subfolders}\")"
      ],
      "metadata": {
        "colab": {
          "base_uri": "https://localhost:8080/"
        },
        "id": "qRfGWFg9ZMRx",
        "outputId": "727700a4-849c-4a6a-a4d1-9c5d53cf339d"
      },
      "execution_count": null,
      "outputs": [
        {
          "output_type": "stream",
          "name": "stdout",
          "text": [
            "📊 Number of images in Train folder: 1087\n",
            "📊 Number of images in Test folder: 469\n",
            "📁 Number of subfolders in Train folder: 21\n"
          ]
        }
      ]
    },
    {
      "cell_type": "code",
      "source": [
        "#list all train sub folder\n",
        "train_folder = os.path.join(\"/content/drive/MyDrive/Break Through Tech/Spring Project/bttai-ajl-2025\", \"train\", \"train\")\n",
        "\n",
        "# Dictionary to store counts per class\n",
        "image_counts = {}\n",
        "total_train_images = 0  # Counter for total images in train folder\n",
        "\n",
        "# Get all direct subfolders inside \"train/train/\"\n",
        "subfolders = [f for f in os.listdir(train_folder) if os.path.isdir(os.path.join(train_folder, f))]\n",
        "\n",
        "# Loop through each subfolder and count images\n",
        "for subfolder in subfolders:\n",
        "    subfolder_path = os.path.join(train_folder, subfolder)\n",
        "\n",
        "    num_images = sum(1 for f in os.listdir(subfolder_path) if f.lower().endswith((\".jpg\", \".jpeg\", \".png\", \".bmp\", \".tiff\")))\n",
        "\n",
        "    # Store count per subfolder\n",
        "    image_counts[subfolder] = num_images\n",
        "\n",
        "    # Add to the total count of all train images\n",
        "    total_train_images += num_images\n",
        "\n",
        "# Print per-folder counts\n",
        "for folder, count in image_counts.items():\n",
        "    print(f\"📁 {folder}: {count} images\")\n",
        "\n",
        "# Print total images in train\n",
        "print(f\"\\n📊 **Total images in 'train' folder: {total_train_images}**\")"
      ],
      "metadata": {
        "colab": {
          "base_uri": "https://localhost:8080/"
        },
        "id": "Q9nHx8PdH5PW",
        "outputId": "64492b41-ca24-4acf-b28f-822f8a16f33d"
      },
      "execution_count": null,
      "outputs": [
        {
          "output_type": "stream",
          "name": "stdout",
          "text": [
            "📁 superficial-spreading-melanoma-ssm: 10 images\n",
            "📁 squamous-cell-carcinoma: 187 images\n",
            "📁 seborrheic-keratosis: 5 images\n",
            "📁 pyogenic-granuloma: 9 images\n",
            "📁 prurigo-nodularis: 43 images\n",
            "📁 mycosis-fungoides: 30 images\n",
            "📁 melanoma: 68 images\n",
            "📁 malignant-melanoma: 10 images\n",
            "📁 keloid: 47 images\n",
            "📁 kaposi-sarcoma: 51 images\n",
            "📁 folliculitis: 118 images\n",
            "📁 epidermal-nevus: 7 images\n",
            "📁 eczema: 49 images\n",
            "📁 dyshidrotic-eczema: 24 images\n",
            "📁 dermatomyositis: 37 images\n",
            "📁 dermatofibroma: 24 images\n",
            "📁 basal-cell-carcinoma-morpheiform: 1 images\n",
            "📁 basal-cell-carcinoma: 212 images\n",
            "📁 actinic-keratosis: 80 images\n",
            "📁 acne-vulgaris: 28 images\n",
            "📁 acne: 47 images\n",
            "\n",
            "📊 **Total images in 'train' folder: 1087**\n"
          ]
        }
      ]
    },
    {
      "cell_type": "code",
      "source": [
        "def get_image_data(directory):\n",
        "    \"\"\"\n",
        "    Extracts image dimensions and pixel channel values from images in the given directory.\n",
        "\n",
        "    Args:\n",
        "        directory (str): Path to the directory containing image files.\n",
        "\n",
        "    Returns:\n",
        "        dimensions (list): A list of tuples containing image dimensions and channel count (width, height, channels).\n",
        "        channel_values (numpy.ndarray): A flattened array of RGB pixel values from all images.\n",
        "    \"\"\"\n",
        "    dimensions = []  # List to store image dimensions\n",
        "    channel_values = []  # List to store pixel values for RGB images\n",
        "\n",
        "    # Walk through the directory and its subdirectories\n",
        "    for root, _, files in os.walk(directory):\n",
        "        for file in files:  # Iterate over each file\n",
        "            # Check if the file is a JPEG\n",
        "            if file.lower().endswith('.jpg') or file.lower().endswith('.jpeg'):\n",
        "                file_path = os.path.join(root, file)  # Get the full file path\n",
        "                try:\n",
        "                    with Image.open(file_path) as img:  # Open the image file\n",
        "                        width, height = img.size  # Get the width and height of the image\n",
        "                        channels = len(img.getbands())  # Get the number of color channels\n",
        "                        dimensions.append((width, height, channels))  # Append dimensions to the list\n",
        "\n",
        "                        # Collect pixel values if the image has RGB channels\n",
        "                        if channels == 3:\n",
        "                            pixels = np.array(img)  # Convert image to a NumPy array\n",
        "                            channel_values.append(pixels.reshape(-1, 3))  # Flatten and append pixel values\n",
        "                except Exception as e:\n",
        "                    # Print an error message if the file cannot be processed\n",
        "                    print(f\"Could not process file {file_path}: {e}\")\n",
        "\n",
        "    # Combine all channel values into a single array if any RGB images exist\n",
        "    if channel_values:\n",
        "        channel_values = np.concatenate(channel_values, axis=0)\n",
        "\n",
        "    return dimensions, channel_values  # Return the dimensions and pixel values\n",
        "    # Remember that dimentions and channel values are both lists; they need to be accessed accordingly\n",
        "\n"
      ],
      "metadata": {
        "id": "qP-VeYlINrMV"
      },
      "execution_count": null,
      "outputs": []
    },
    {
      "cell_type": "code",
      "source": [
        "# Function to visualize the distribution of dimensions and channel values\n",
        "def plot_distributions(dimensions, channel_values):\n",
        "     widths = [dim[0] for dim in dimensions]  # Extract image widths\n",
        "     heights = [dim[1] for dim in dimensions]  # Extract image heights\n",
        "     channels = [dim[2] for dim in dimensions]  # Extract channel counts\n",
        "\n",
        "     # Create a figure for plotting\n",
        "     plt.figure(figsize=(14, 8))\n",
        "\n",
        "     # Plot the distribution of widths and heights\n",
        "     plt.subplot(2, 2, 1)\n",
        "     plt.hist(widths, bins=30, alpha=0.7, label='Widths')  # Histogram for widths\n",
        "     plt.hist(heights, bins=30, alpha=0.7, label='Heights')  # Histogram for heights\n",
        "     plt.title('Width and Height Distribution')  # Title for the plot\n",
        "     plt.xlabel('Pixels')  # X-axis label\n",
        "     plt.ylabel('Frequency')  # Y-axis label\n",
        "     plt.legend()  # Add a legend\n",
        "\n",
        "     # Plot the distribution of channel counts\n",
        "     plt.subplot(2, 2, 2)\n",
        "     channel_counts = Counter(channels)  # Count occurrences of each channel count\n",
        "     plt.bar(channel_counts.keys(), channel_counts.values(), color='orange', alpha=0.7)  # Bar chart for channel counts\n",
        "     plt.title('Channel Count Distribution')  # Title for the plot\n",
        "     plt.xlabel('Number of Channels')  # X-axis label\n",
        "     plt.ylabel('Frequency')  # Y-axis label\n",
        "\n",
        "     # Plot the distribution of RGB channel values if available\n",
        "     if channel_values.size > 0:\n",
        "         plt.subplot(2, 1, 2)\n",
        "         colors = ['Red', 'Green', 'Blue']  # Define color labels\n",
        "         for i, color in enumerate(colors):  # Iterate over each channel\n",
        "             plt.hist(channel_values[:, i], bins=50, alpha=0.7, label=f'{color} Channel', color=color.lower())  # Histogram for each channel\n",
        "         plt.title('RGB Channel Value Distribution')  # Title for the plot\n",
        "         plt.xlabel('Pixel Value')  # X-axis label\n",
        "         plt.ylabel('Frequency')  # Y-axis label\n",
        "         plt.legend()  # Add a legend\n",
        "\n",
        "     # Adjust layout for better readability\n",
        "     plt.tight_layout()\n",
        "     plt.show()  # Display the plots\n"
      ],
      "metadata": {
        "id": "RQFK9ZSfoAlF"
      },
      "execution_count": null,
      "outputs": []
    },
    {
      "cell_type": "code",
      "source": [
        "dataset_path = \"/content/drive/MyDrive/Break Through Tech/Spring Project/bttai-ajl-2025\"\n",
        "dims, pixels = get_image_data(dataset_path)\n",
        "\n",
        "print(\"Example image dimensions:\", dims[:5])  # Show first 5 image sizes\n",
        "print(\"Shape of RGB pixel array:\", pixels.shape if pixels.size > 0 else \"No RGB images found\")\n"
      ],
      "metadata": {
        "id": "YnfxkhiXTSrv",
        "colab": {
          "base_uri": "https://localhost:8080/"
        },
        "outputId": "685f9a5d-54f3-44c6-ceab-5c95ccb60e55"
      },
      "execution_count": null,
      "outputs": [
        {
          "output_type": "stream",
          "name": "stdout",
          "text": [
            "Example image dimensions: [(666, 537, 3), (320, 320, 3), (704, 451, 3), (595, 571, 3), (320, 320, 3)]\n",
            "Shape of RGB pixel array: (419800791, 3)\n"
          ]
        }
      ]
    }
  ],
  "metadata": {
    "colab": {
      "provenance": []
    },
    "kernelspec": {
      "display_name": "Python 3",
      "name": "python3"
    },
    "language_info": {
      "name": "python"
    }
  },
  "nbformat": 4,
  "nbformat_minor": 0
}