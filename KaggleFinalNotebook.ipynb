{
  "metadata": {
    "kernelspec": {
      "language": "python",
      "display_name": "Python 3",
      "name": "python3"
    },
    "language_info": {
      "name": "python",
      "version": "3.10.12",
      "mimetype": "text/x-python",
      "codemirror_mode": {
        "name": "ipython",
        "version": 3
      },
      "pygments_lexer": "ipython3",
      "nbconvert_exporter": "python",
      "file_extension": ".py"
    },
    "kaggle": {
      "accelerator": "none",
      "dataSources": [
        {
          "sourceId": 90489,
          "databundleVersionId": 10898385,
          "sourceType": "competition"
        }
      ],
      "dockerImageVersionId": 30918,
      "isInternetEnabled": true,
      "language": "python",
      "sourceType": "notebook",
      "isGpuEnabled": false
    },
    "colab": {
      "provenance": []
    }
  },
  "nbformat_minor": 0,
  "nbformat": 4,
  "cells": [
    {
      "source": [
        "# IMPORTANT: SOME KAGGLE DATA SOURCES ARE PRIVATE\n",
        "# RUN THIS CELL IN ORDER TO IMPORT YOUR KAGGLE DATA SOURCES.\n",
        "import kagglehub\n",
        "kagglehub.login()\n"
      ],
      "metadata": {
        "id": "5sTqo-rEJfq8"
      },
      "cell_type": "code",
      "outputs": [],
      "execution_count": null
    },
    {
      "source": [
        "# IMPORTANT: RUN THIS CELL IN ORDER TO IMPORT YOUR KAGGLE DATA SOURCES,\n",
        "# THEN FEEL FREE TO DELETE THIS CELL.\n",
        "# NOTE: THIS NOTEBOOK ENVIRONMENT DIFFERS FROM KAGGLE'S PYTHON\n",
        "# ENVIRONMENT SO THERE MAY BE MISSING LIBRARIES USED BY YOUR\n",
        "# NOTEBOOK.\n",
        "\n",
        "bttai_ajl_2025_path = kagglehub.competition_download('bttai-ajl-2025')\n",
        "\n",
        "print('Data source import complete.')\n"
      ],
      "metadata": {
        "id": "J9laUtVMJfq-"
      },
      "cell_type": "code",
      "outputs": [],
      "execution_count": null
    },
    {
      "cell_type": "code",
      "source": [
        "# # This Python 3 environment comes with many helpful analytics libraries installed\n",
        "# # It is defined by the kaggle/python Docker image: https://github.com/kaggle/docker-python\n",
        "# # For example, here's several helpful packages to load\n",
        "\n",
        "# import numpy as np # linear algebra\n",
        "# import pandas as pd # data processing, CSV file I/O (e.g. pd.read_csv)\n",
        "\n",
        "# # Input data files are available in the read-only \"../input/\" directory\n",
        "# # For example, running this (by clicking run or pressing Shift+Enter) will list all files under the input directory\n",
        "\n",
        "# import os\n",
        "# for dirname, _, filenames in os.walk('/kaggle/input'):\n",
        "#     for filename in filenames:\n",
        "#         print(os.path.join(dirname, filename))\n",
        "\n",
        "# # You can write up to 20GB to the current directory (/kaggle/working/) that gets preserved as output when you create a version using \"Save & Run All\"\n",
        "# # You can also write temporary files to /kaggle/temp/, but they won't be saved outside of the current session"
      ],
      "metadata": {
        "_uuid": "8f2839f25d086af736a60e9eeb907d3b93b6e0e5",
        "_cell_guid": "b1076dfc-b9ad-4769-8c92-a6c4dae69d19",
        "trusted": true,
        "execution": {
          "iopub.status.busy": "2025-03-10T01:47:27.458795Z",
          "iopub.execute_input": "2025-03-10T01:47:27.459153Z"
        },
        "id": "zwCvY7ipJfq_"
      },
      "outputs": [],
      "execution_count": null
    },
    {
      "cell_type": "markdown",
      "source": [
        "# A Simple Starter Code for the AJL Competition\n",
        "\n",
        "@Cindy Deng\n",
        "\n",
        "---\n",
        "\n",
        "\n",
        "Hi! This starter code is designed to help you get familiar with basic Kaggle operations and guide you through the basic workflow of a machine learning project.\n",
        "\n",
        "The code outlines essential steps including data loading, preprocessing, model building, training, and generating predictions. Each section serves as a foundation, but there are many ways to enhance each step to improve your final model's accuracy. Feel free to experiment with different data augmentation techniques, model architectures, and tuning methods to optimize your final results! Some amazing tutorials are available through your AI Studio course in Canvas / in the 'Resource' section of this Kaggle competition.\n",
        "\n",
        "Good luck and have fun!\n",
        "\n",
        "---"
      ],
      "metadata": {
        "id": "T8k4JeRFJfrA"
      }
    },
    {
      "cell_type": "markdown",
      "source": [
        "## Note - About file path\n",
        "\n",
        "You could use the cell above to print the names of the file directories and get the following directories:\n",
        "\n",
        "```\n",
        "/kaggle/input/bttai-ajl-2025/sample_submission.csv\n",
        "/kaggle/input/bttai-ajl-2025/train.csv\n",
        "/kaggle/input/bttai-ajl-2025/test.csv\n",
        "/kaggle/input/bttai-ajl-2025/test/test/e0374ae6c1362ff183cfba28ded5421b.jpg\n",
        "/kaggle/input/bttai-ajl-2025/test/test/437159c605260bdd079af230566af291.jpg\n",
        "...\n",
        "...\n",
        "/kaggle/input/bttai-ajl-2025/train/train/dermatomyositis/11271bdf2598afdd4260db3125e1f6a5.jpg\n",
        "/kaggle/input/bttai-ajl-2025/train/train/dermatomyositis/732819951dcf2b53d15ea7b8bb123b71.jpg\n",
        "/kaggle/input/bttai-ajl-2025/train/train/dermatomyositis/6dcc7a8abb5e1c6e670101f4b6231246.jpg\n",
        "/kaggle/input/bttai-ajl-2025/train/train/dermatomyositis/e63c3b3f0ab8905e204fe467cc7411f9.jpg\n",
        "...\n",
        "...\n",
        "```\n",
        "\n"
      ],
      "metadata": {
        "id": "vLi57V36JfrC"
      }
    },
    {
      "cell_type": "markdown",
      "source": [
        "## 1. Import Necessary Libraries"
      ],
      "metadata": {
        "id": "INKklMytJfrD"
      }
    },
    {
      "cell_type": "code",
      "source": [
        "# 1. Import Necessary Libraries\n",
        "import pandas as pd\n",
        "import numpy as np\n",
        "import os\n",
        "from sklearn.model_selection import train_test_split\n",
        "from sklearn.preprocessing import LabelEncoder\n",
        "from tensorflow.keras.preprocessing.image import ImageDataGenerator\n",
        "from tensorflow.keras.models import Sequential\n",
        "from tensorflow.keras.layers import Conv2D, MaxPooling2D, Flatten, Dense, Dropout, Activation, BatchNormalization\n",
        "from tensorflow.keras.callbacks import EarlyStopping\n",
        "\n",
        "# Explanation:\n",
        "# - pandas and numpy: for data manipulation\n",
        "# - sklearn: for splitting data and encoding labels\n",
        "# - tensorflow.keras: for building and training the neural network"
      ],
      "metadata": {
        "trusted": true,
        "execution": {
          "iopub.status.busy": "2025-03-10T01:47:27.465535Z",
          "iopub.execute_input": "2025-03-10T01:47:27.465969Z",
          "iopub.status.idle": "2025-03-10T01:47:27.483257Z",
          "shell.execute_reply.started": "2025-03-10T01:47:27.465924Z",
          "shell.execute_reply": "2025-03-10T01:47:27.482309Z"
        },
        "id": "BuGaFfD-JfrD"
      },
      "outputs": [],
      "execution_count": null
    },
    {
      "cell_type": "markdown",
      "source": [
        "## 2. Load Data\n",
        "\n",
        "Make sure to verify the file paths if you're running on a different platform."
      ],
      "metadata": {
        "id": "9UnzWrwEJfrD"
      }
    },
    {
      "cell_type": "code",
      "source": [
        "# 2. Load Data\n",
        "train_df = pd.read_csv('/kaggle/input/bttai-ajl-2025/train.csv')\n",
        "test_df = pd.read_csv('/kaggle/input/bttai-ajl-2025/test.csv')\n",
        "\n",
        "# Add .jpg extension to md5hash column to reference the file_name\n",
        "train_df['md5hash'] = train_df['md5hash'].astype(str) + '.jpg'\n",
        "test_df['md5hash'] = test_df['md5hash'].astype(str) + '.jpg'\n",
        "\n",
        "# Combine label and md5hash to form the correct path\n",
        "train_df['file_path'] = train_df['label'] + '/' + train_df['md5hash']\n",
        "test_df['file_path'] = train_df['label'] + '/' + train_df['md5hash']"
      ],
      "metadata": {
        "trusted": true,
        "execution": {
          "iopub.status.busy": "2025-03-10T01:47:27.485161Z",
          "iopub.execute_input": "2025-03-10T01:47:27.485555Z",
          "iopub.status.idle": "2025-03-10T01:47:27.524369Z",
          "shell.execute_reply.started": "2025-03-10T01:47:27.485525Z",
          "shell.execute_reply": "2025-03-10T01:47:27.523505Z"
        },
        "id": "3dCGsN94JfrE"
      },
      "outputs": [],
      "execution_count": null
    },
    {
      "cell_type": "code",
      "source": [
        "# Check the first few rows to understand the structure\n",
        "train_df.head()"
      ],
      "metadata": {
        "trusted": true,
        "execution": {
          "iopub.status.busy": "2025-03-10T01:47:27.525571Z",
          "iopub.execute_input": "2025-03-10T01:47:27.525879Z",
          "iopub.status.idle": "2025-03-10T01:47:27.53431Z",
          "shell.execute_reply.started": "2025-03-10T01:47:27.525854Z",
          "shell.execute_reply": "2025-03-10T01:47:27.533213Z"
        },
        "id": "at7grIylJfrF"
      },
      "outputs": [],
      "execution_count": null
    },
    {
      "cell_type": "code",
      "source": [
        "# Check the first few rows to understand the structure\n",
        "test_df.head()"
      ],
      "metadata": {
        "trusted": true,
        "execution": {
          "iopub.status.busy": "2025-03-10T01:51:12.210081Z",
          "iopub.execute_input": "2025-03-10T01:51:12.210488Z",
          "iopub.status.idle": "2025-03-10T01:51:12.230289Z",
          "shell.execute_reply.started": "2025-03-10T01:51:12.210456Z",
          "shell.execute_reply": "2025-03-10T01:51:12.229102Z"
        },
        "id": "akfhObqsJfrG"
      },
      "outputs": [],
      "execution_count": null
    },
    {
      "cell_type": "markdown",
      "source": [
        "## 3. Data Preprocessing\n",
        "\n",
        "\n",
        "This section demonstrates basic preprocessing techniques. To enhance data quality and model performance, consider incorporating more advanced preprocessing methods.\n",
        "\n",
        "For further guidance, feel free to take a look at the [Image Preprocessing tutorial](https://colab.research.google.com/drive/1-ItNcRMbZBE6BCwPT-wD8m3YmHqwHxme?usp=sharing)  available in the 'Resources' section of this Kaggle competition.\n"
      ],
      "metadata": {
        "id": "vIX82AopJfrG"
      }
    },
    {
      "cell_type": "code",
      "source": [
        "# 3. Data Preprocessing\n",
        "# Encode the labels\n",
        "label_encoder = LabelEncoder()\n",
        "train_df['encoded_label'] = label_encoder.fit_transform(train_df['label'])\n",
        "train_df['encoded_label'] = train_df['label'].astype(str)\n",
        "\n",
        "# Split the data into training and validation sets\n",
        "train_data, val_data = train_test_split(train_df, test_size=0.2, random_state=42)\n",
        "\n",
        "# Define image data generators for training and validation\n",
        "train_datagen = ImageDataGenerator(rescale=1./255)\n",
        "val_datagen = ImageDataGenerator(rescale=1./255)\n",
        "\n",
        "# Define the directory paths\n",
        "train_dir = '/kaggle/input/bttai-ajl-2025/train/train/'"
      ],
      "metadata": {
        "trusted": true,
        "execution": {
          "iopub.status.busy": "2025-03-10T01:51:16.641611Z",
          "iopub.execute_input": "2025-03-10T01:51:16.641955Z",
          "iopub.status.idle": "2025-03-10T01:51:16.653897Z",
          "shell.execute_reply.started": "2025-03-10T01:51:16.641926Z",
          "shell.execute_reply": "2025-03-10T01:51:16.652488Z"
        },
        "id": "6U864OVZJfrH"
      },
      "outputs": [],
      "execution_count": null
    },
    {
      "cell_type": "code",
      "source": [
        "def create_generator(dataframe, directory, batch_size=32, target_size=(128, 128)):\n",
        "    \"\"\"\n",
        "    Template function to create image generators.\n",
        "    Students should complete this function to load images and labels properly.\n",
        "    \"\"\"\n",
        "    # Fill in the correct flow_from_dataframe parameters\n",
        "    generator = train_datagen.flow_from_dataframe(\n",
        "        dataframe=dataframe,\n",
        "        directory=directory,\n",
        "        x_col='file_path',  # Use combined path\n",
        "        y_col='encoded_label',\n",
        "        target_size=target_size,\n",
        "        batch_size=batch_size,\n",
        "        class_mode='categorical',\n",
        "        validate_filenames=False  # Disable strict filename validation\n",
        "    )\n",
        "    return generator"
      ],
      "metadata": {
        "trusted": true,
        "execution": {
          "iopub.status.busy": "2025-03-10T01:51:20.66567Z",
          "iopub.execute_input": "2025-03-10T01:51:20.666191Z",
          "iopub.status.idle": "2025-03-10T01:51:20.672486Z",
          "shell.execute_reply.started": "2025-03-10T01:51:20.666152Z",
          "shell.execute_reply": "2025-03-10T01:51:20.670922Z"
        },
        "id": "RcXL0aysJfrH"
      },
      "outputs": [],
      "execution_count": null
    },
    {
      "cell_type": "code",
      "source": [
        "# Create generators\n",
        "train_generator = create_generator(train_data, train_dir)\n",
        "val_generator = create_generator(val_data, train_dir)"
      ],
      "metadata": {
        "trusted": true,
        "execution": {
          "iopub.status.busy": "2025-03-10T01:51:23.625805Z",
          "iopub.execute_input": "2025-03-10T01:51:23.626245Z",
          "iopub.status.idle": "2025-03-10T01:51:23.657204Z",
          "shell.execute_reply.started": "2025-03-10T01:51:23.626209Z",
          "shell.execute_reply": "2025-03-10T01:51:23.655298Z"
        },
        "id": "3ABUNmwoJfrI"
      },
      "outputs": [],
      "execution_count": null
    },
    {
      "cell_type": "code",
      "source": [
        "x_batch, y_batch = next(train_generator)\n",
        "\n",
        "print(\"Shape of batch images:\", x_batch.shape)  # Expected: (batch_size, 128, 128, 3)\n",
        "print(\"Shape of batch labels:\", y_batch.shape)  # Expected: (batch_size, 16)\n",
        "print(\"First label sample:\", y_batch[0])  # Should look like [0, 0, 1, 0, ..., 0] (one-hot)\n"
      ],
      "metadata": {
        "trusted": true,
        "execution": {
          "iopub.status.busy": "2025-03-10T01:51:27.210858Z",
          "iopub.execute_input": "2025-03-10T01:51:27.211848Z",
          "iopub.status.idle": "2025-03-10T01:51:27.409132Z",
          "shell.execute_reply.started": "2025-03-10T01:51:27.211724Z",
          "shell.execute_reply": "2025-03-10T01:51:27.407335Z"
        },
        "id": "mBxm_6IaJfrI"
      },
      "outputs": [],
      "execution_count": null
    },
    {
      "cell_type": "code",
      "source": [
        "# List all image file paths in the DataFrame\n",
        "missing_files = [f for f in train_data['file_path'] if not os.path.exists(os.path.join(train_dir, f))]\n",
        "print(f\"Missing Train Images: {len(missing_files)}\")\n",
        "\n",
        "missing_files_val = [f for f in val_data['file_path'] if not os.path.exists(os.path.join(train_dir, f))]\n",
        "print(f\"Missing Validation Images: {len(missing_files_val)}\")"
      ],
      "metadata": {
        "trusted": true,
        "execution": {
          "iopub.status.busy": "2025-03-10T01:51:32.45301Z",
          "iopub.execute_input": "2025-03-10T01:51:32.453408Z",
          "iopub.status.idle": "2025-03-10T01:51:34.692216Z",
          "shell.execute_reply.started": "2025-03-10T01:51:32.453361Z",
          "shell.execute_reply": "2025-03-10T01:51:34.690596Z"
        },
        "id": "2obQmYdIJfrI"
      },
      "outputs": [],
      "execution_count": null
    },
    {
      "cell_type": "markdown",
      "source": [
        "## 4. Build the model\n"
      ],
      "metadata": {
        "id": "LHK_-eUiJfrJ"
      }
    },
    {
      "cell_type": "code",
      "source": [
        "# Implement the model architecture here.\n",
        "# Feel free to explore different model types that best serve your purpose.\n",
        "# Build CNN model\n",
        "model = Sequential([\n",
        "    Conv2D(32, (3,3), activation='relu', input_shape=(128,128,3)),\n",
        "    MaxPooling2D(2,2),\n",
        "    Conv2D(64, (3,3), activation='relu'),\n",
        "    MaxPooling2D(2,2),\n",
        "    # add dropout\n",
        "    Dropout(0.5), # increase from 0.3 - 0.5\n",
        "    Flatten(),\n",
        "    # add\n",
        "    Activation('relu'),\n",
        "    Dense(128, activation='relu'),\n",
        "    # add\n",
        "    Dropout(0.2),\n",
        "    # Dropout(0.8), # dropping neutrons randomly to prevent overfitting but in this location, causes model to be more inaccurate\n",
        "    Dense(21, activation='softmax')\n",
        "])\n",
        "\n",
        "\n",
        "# Compile model\n",
        "model.compile(optimizer='adam', loss='categorical_crossentropy', metrics=['accuracy'])\n",
        "\n",
        "# View model summary\n",
        "model.summary()"
      ],
      "metadata": {
        "trusted": true,
        "execution": {
          "iopub.status.busy": "2025-03-10T01:52:34.26273Z",
          "iopub.execute_input": "2025-03-10T01:52:34.263104Z",
          "iopub.status.idle": "2025-03-10T01:52:34.374073Z",
          "shell.execute_reply.started": "2025-03-10T01:52:34.263074Z",
          "shell.execute_reply": "2025-03-10T01:52:34.373175Z"
        },
        "id": "XRhUyliFJfrJ"
      },
      "outputs": [],
      "execution_count": null
    },
    {
      "cell_type": "markdown",
      "source": [
        "## 5. Train the Model\n"
      ],
      "metadata": {
        "id": "WCTUE7kIJfrJ"
      }
    },
    {
      "cell_type": "code",
      "source": [
        "# Train your model here.\n",
        "history = model.fit(train_generator, validation_data=val_generator, epochs=20)\n",
        "\n",
        "\n"
      ],
      "metadata": {
        "trusted": true,
        "execution": {
          "iopub.status.busy": "2025-03-10T01:52:45.044114Z",
          "iopub.execute_input": "2025-03-10T01:52:45.044535Z",
          "iopub.status.idle": "2025-03-10T02:06:06.918951Z",
          "shell.execute_reply.started": "2025-03-10T01:52:45.044501Z",
          "shell.execute_reply": "2025-03-10T02:06:06.917637Z"
        },
        "id": "QD377_FkJfrK"
      },
      "outputs": [],
      "execution_count": null
    },
    {
      "cell_type": "markdown",
      "source": [
        "## 6. Make Predictions on Test Data"
      ],
      "metadata": {
        "id": "z9mgBygKJfrK"
      }
    },
    {
      "cell_type": "code",
      "source": [
        "# 6. Make Predictions on Test Data\n",
        "def preprocess_test_data(test_df, directory):\n",
        "    \"\"\"\n",
        "    Template for loading and preprocessing test images.\n",
        "    \"\"\"\n",
        "\n",
        "    test_datagen = ImageDataGenerator(rescale=1./255)  # Normalize pixel values\n",
        "\n",
        "    test_generator = test_datagen.flow_from_dataframe(\n",
        "        dataframe=test_df,\n",
        "        directory=directory,\n",
        "        x_col='file_path',  # Column that contains image file names\n",
        "        target_size=(126,126),\n",
        "        batch_size=21,\n",
        "        class_mode=None,  # No labels for test set\n",
        "        shuffle=False  # Ensure order is maintained for predictions\n",
        "    )\n",
        "\n",
        "    return test_generator\n"
      ],
      "metadata": {
        "trusted": true,
        "id": "2LtQV8UyJfrK"
      },
      "outputs": [],
      "execution_count": null
    },
    {
      "cell_type": "code",
      "source": [
        "# Load test data\n",
        "test_dir = '/kaggle/input/bttai-ajl-2025/test/test/'\n",
        "test_df['file_path'] = test_df['md5hash']\n",
        "\n",
        "test_generator = preprocess_test_data(test_df, test_dir)"
      ],
      "metadata": {
        "trusted": true,
        "id": "5TYc5HBbJfrL"
      },
      "outputs": [],
      "execution_count": null
    },
    {
      "cell_type": "markdown",
      "source": [
        "## 7. Generate Predictions"
      ],
      "metadata": {
        "id": "tKXup2ofJfrM"
      }
    },
    {
      "cell_type": "code",
      "source": [
        "# Generate predictions based on the trained model\n",
        "predictions = model.predict(test_generator)\n",
        "predicted_classes = np.argmax(predictions, axis=1)\n",
        "\n",
        "# Then, save the predictions into a CSV file for submission\n",
        "# Convert class indices to labels\n",
        "class_labels = {v: k for k, v in train_generator.class_indices.items()}  # Reverse mapping\n",
        "test_df['predicted_label'] = test_df.index.to_series().apply(lambda i: class_labels[predicted_classes[i]])\n"
      ],
      "metadata": {
        "trusted": true,
        "id": "E81W7VvYJfrM"
      },
      "outputs": [],
      "execution_count": null
    },
    {
      "cell_type": "code",
      "source": [
        "# Remove .jpg from md5hash before saving\n",
        "test_df['md5hash'] = test_df['md5hash'].str.replace('.jpg', '', regex=False)\n",
        "\n",
        "#save to csv\n",
        "submission_file = \"skin_condition_predictions.csv\"\n",
        "test_df[['md5hash', 'predicted_label']].to_csv(submission_file, index=False)\n",
        "\n",
        "print(f\"Predictions saved to {submission_file}\")\n",
        "\n"
      ],
      "metadata": {
        "trusted": true,
        "id": "LTloINAIJfrM"
      },
      "outputs": [],
      "execution_count": null
    },
    {
      "cell_type": "code",
      "source": [
        "readSubFile = pd.read_csv(submission_file)\n",
        "\n",
        "print(readSubFile.head())"
      ],
      "metadata": {
        "trusted": true,
        "id": "s7I9KKodJfrM"
      },
      "outputs": [],
      "execution_count": null
    }
  ]
}